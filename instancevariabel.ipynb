{
  "nbformat": 4,
  "nbformat_minor": 0,
  "metadata": {
    "colab": {
      "provenance": [],
      "authorship_tag": "ABX9TyOqpNRR5Xm3VWphZCav4VHU",
      "include_colab_link": true
    },
    "kernelspec": {
      "name": "python3",
      "display_name": "Python 3"
    },
    "language_info": {
      "name": "python"
    }
  },
  "cells": [
    {
      "cell_type": "markdown",
      "metadata": {
        "id": "view-in-github",
        "colab_type": "text"
      },
      "source": [
        "<a href=\"https://colab.research.google.com/github/syarifahannisa1215/praktikum-pbo/blob/main/instancevariabel.ipynb\" target=\"_parent\"><img src=\"https://colab.research.google.com/assets/colab-badge.svg\" alt=\"Open In Colab\"/></a>"
      ]
    },
    {
      "cell_type": "code",
      "execution_count": 1,
      "metadata": {
        "id": "fE27hweWZS-n",
        "outputId": "ec28e31a-5e75-4e04-ebff-651fc5c90acf",
        "colab": {
          "base_uri": "https://localhost:8080/"
        }
      },
      "outputs": [
        {
          "output_type": "stream",
          "name": "stdout",
          "text": [
            "Canine\n",
            "Buddy\n",
            "Charlie\n",
            "Max\n",
            "Feline\n",
            "Feline\n"
          ]
        }
      ],
      "source": [
        "class Dog:\n",
        "    # Class variable\n",
        "    species = \"Canine\"\n",
        "\n",
        "    def __init__(self, name, age):\n",
        "        # Instance variables\n",
        "        self.name = name\n",
        "        self.age = age\n",
        "\n",
        "# Create objects\n",
        "dog1 = Dog(\"Buddy\", 3)\n",
        "dog2 = Dog(\"Charlie\", 5)\n",
        "\n",
        "# Access class and instance variables\n",
        "print(dog1.species)  # (Class variable)\n",
        "print(dog1.name)     # (Instance variable)\n",
        "print(dog2.name)     # (Instance variable)\n",
        "\n",
        "# Modify instance variables\n",
        "dog1.name = \"Max\"\n",
        "print(dog1.name)     # (Updated instance variable)\n",
        "\n",
        "# Modify class variable\n",
        "Dog.species = \"Feline\"\n",
        "print(dog1.species)  # (Updated class variable)\n",
        "print(dog2.species)"
      ]
    }
  ]
}